{
 "cells": [
  {
   "cell_type": "code",
   "execution_count": 1,
   "id": "66228c1e",
   "metadata": {},
   "outputs": [
    {
     "name": "stdout",
     "output_type": "stream",
     "text": [
      "Following is the Depth-First Search\n",
      "5\n",
      "node visited at each time step ['3', '7']\n",
      "3\n",
      "node visited at each time step ['2', '4']\n",
      "2\n",
      "node visited at each time step ['1']\n",
      "1\n",
      "node visited at each time step []\n",
      "4\n",
      "node visited at each time step ['8']\n",
      "8\n",
      "node visited at each time step []\n",
      "7\n",
      "node visited at each time step ['6']\n",
      "6\n",
      "node visited at each time step []\n"
     ]
    }
   ],
   "source": [
    "graph={\n",
    "    '5':['3','7'],\n",
    "    '3':['2','4'],\n",
    "    '7':['6'],\n",
    "    '6':[],\n",
    "    '2':['1'],\n",
    "    '1':[],\n",
    "    '4':['8'],\n",
    "    '8':[]\n",
    "}\n",
    "visited=set()\n",
    "def dfs(visited,graph,node):\n",
    "    if node not in visited:\n",
    "        print(node)\n",
    "        visited.add(node)\n",
    "        print(\"node visited at each time step\",graph[node])\n",
    "        for neighbour in graph[node]:\n",
    "            dfs(visited,graph,neighbour)\n",
    "print(\"Following is the Depth-First Search\")\n",
    "dfs(visited,graph,'5')"
   ]
  },
  {
   "cell_type": "code",
   "execution_count": null,
   "id": "8aa01f58",
   "metadata": {},
   "outputs": [],
   "source": []
  }
 ],
 "metadata": {
  "kernelspec": {
   "display_name": "Python 3 (ipykernel)",
   "language": "python",
   "name": "python3"
  },
  "language_info": {
   "codemirror_mode": {
    "name": "ipython",
    "version": 3
   },
   "file_extension": ".py",
   "mimetype": "text/x-python",
   "name": "python",
   "nbconvert_exporter": "python",
   "pygments_lexer": "ipython3",
   "version": "3.9.7"
  }
 },
 "nbformat": 4,
 "nbformat_minor": 5
}
