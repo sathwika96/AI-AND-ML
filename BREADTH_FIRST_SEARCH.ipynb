{
 "cells": [
  {
   "cell_type": "code",
   "execution_count": 3,
   "id": "c0662a78",
   "metadata": {},
   "outputs": [
    {
     "name": "stdout",
     "output_type": "stream",
     "text": [
      "Following is the Breadth-First Search\n",
      "Node visited at each step ['1', '2']\n",
      "Node visited at each step ['1', '2', '10']\n",
      "Node visited at each step ['1', '2', '10', '3']\n",
      "Node visited at each step ['1', '2', '10', '3', '8']\n",
      "Node visited at each step ['1', '2', '10', '3', '8', '4']\n",
      "Node visited at each step ['1', '2', '10', '3', '8', '4', '9']\n",
      "Node visited at each step ['1', '2', '10', '3', '8', '4', '9', '5']\n",
      "Node visited at each step ['1', '2', '10', '3', '8', '4', '9', '5', '6']\n",
      "Node visited at each step ['1', '2', '10', '3', '8', '4', '9', '5', '6', '7']\n"
     ]
    }
   ],
   "source": [
    "graph={\n",
    "    '1':['2','10'],\n",
    "    '2':['3','8'],\n",
    "    '3':['4'],\n",
    "    '4':['5','6','7'],\n",
    "    '5':[],\n",
    "    '6':[],\n",
    "    '7':[],\n",
    "    '8':['9'],\n",
    "    '9':[],\n",
    "    '10':[]\n",
    "}\n",
    "visited=[]\n",
    "queue=[]\n",
    "def bfs(visited,graph,node):\n",
    "    visited.append(node)\n",
    "    queue.append(node)\n",
    "    while queue:\n",
    "        m=queue.pop(0)\n",
    "        #print(m,end=' ')\n",
    "        for neighbour in graph[m]:\n",
    "            if neighbour not in visited:\n",
    "                visited.append(neighbour)\n",
    "                queue.append(neighbour)\n",
    "                print(\"Node visited at each step\",visited)\n",
    "print(\"Following is the Breadth-First Search\")\n",
    "bfs(visited,graph,'1')"
   ]
  },
  {
   "cell_type": "code",
   "execution_count": null,
   "id": "83dc6628",
   "metadata": {},
   "outputs": [],
   "source": []
  }
 ],
 "metadata": {
  "kernelspec": {
   "display_name": "Python 3 (ipykernel)",
   "language": "python",
   "name": "python3"
  },
  "language_info": {
   "codemirror_mode": {
    "name": "ipython",
    "version": 3
   },
   "file_extension": ".py",
   "mimetype": "text/x-python",
   "name": "python",
   "nbconvert_exporter": "python",
   "pygments_lexer": "ipython3",
   "version": "3.9.7"
  }
 },
 "nbformat": 4,
 "nbformat_minor": 5
}
